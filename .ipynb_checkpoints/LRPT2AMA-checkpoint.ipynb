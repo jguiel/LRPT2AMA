{
 "cells": [
  {
   "cell_type": "code",
   "execution_count": null,
   "id": "ece69bdc",
   "metadata": {},
   "outputs": [],
   "source": [
    "import pandas as pd\n",
    "df = pd.read_csv('LRPT101.txt', delimiter='\\t')\n",
    "df = df[['PatientID', 'INCLUDING_THIS_CELL']]\n",
    "ama = input('AMA:') + '.txt'\n",
    "df.to_csv(ama, sep='\\t', header=False, index=False)"
   ]
  }
 ],
 "metadata": {
  "kernelspec": {
   "display_name": "Python 3",
   "language": "python",
   "name": "python3"
  },
  "language_info": {
   "codemirror_mode": {
    "name": "ipython",
    "version": 3
   },
   "file_extension": ".py",
   "mimetype": "text/x-python",
   "name": "python",
   "nbconvert_exporter": "python",
   "pygments_lexer": "ipython3",
   "version": "3.8.8"
  }
 },
 "nbformat": 4,
 "nbformat_minor": 5
}
